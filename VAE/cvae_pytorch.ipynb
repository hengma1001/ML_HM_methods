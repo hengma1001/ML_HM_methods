{
 "cells": [
  {
   "cell_type": "code",
   "execution_count": 1,
   "metadata": {},
   "outputs": [],
   "source": [
    "import sys, os \n",
    "\n",
    "os.environ[\"CUDA_DEVICE_ORDER\"]=\"PCI_BUS_ID\"\n",
    "os.environ[\"CUDA_VISIBLE_DEVICES\"]=\"1\""
   ]
  },
  {
   "cell_type": "code",
   "execution_count": 2,
   "metadata": {},
   "outputs": [],
   "source": [
    "from __future__ import print_function\n",
    "import argparse\n",
    "import torch\n",
    "import torch.utils.data\n",
    "from torch import nn, optim\n",
    "from torch.nn import functional as F\n",
    "from torchvision import datasets, transforms\n",
    "from torchvision.utils import save_image\n",
    "\n",
    "batch_size=128\n",
    "epochs=10\n",
    "no_cuda=False \n",
    "log_interval=100\n",
    "\n",
    "cuda = not no_cuda and torch.cuda.is_available()\n",
    "\n",
    "device = torch.device(\"cuda\" if cuda else \"cpu\")\n",
    "\n",
    "kwargs = {'num_workers': 1, 'pin_memory': True} if cuda else {}\n",
    "train_loader = torch.utils.data.DataLoader(\n",
    "    datasets.MNIST('../data', train=True, download=True,\n",
    "                   transform=transforms.ToTensor()),\n",
    "    batch_size=batch_size, shuffle=True, **kwargs)\n",
    "test_loader = torch.utils.data.DataLoader(\n",
    "    datasets.MNIST('../data', train=False, transform=transforms.ToTensor()),\n",
    "    batch_size=batch_size, shuffle=True, **kwargs)\n",
    "\n",
    "\n",
    "class VAE(nn.Module):\n",
    "    def __init__(self):\n",
    "        super(VAE, self).__init__()\n",
    "        self.conv1 = nn.Conv2d(1, 12, 3, 1, 1)\n",
    "        self.fc1 = nn.Linear(784*12, 512)\n",
    "        self.fc21 = nn.Linear(512, 2)\n",
    "        self.fc22 = nn.Linear(512, 2)\n",
    "        self.fc3 = nn.Linear(2, 512)\n",
    "        self.fc4 = nn.Linear(512, 784*12)\n",
    "        self.convtrans1 = nn.ConvTranspose2d(12, 1, 3, 1, 1)\n",
    "        \n",
    "    def encode(self, x): \n",
    "        x = F.relu(self.conv1(x)) \n",
    "        h1 = F.relu(self.fc1(x.view(-1, 12*28*28)))\n",
    "        return self.fc21(h1), self.fc22(h1)\n",
    "\n",
    "    def reparameterize(self, mu, logvar): \n",
    "        std = torch.exp(0.5*logvar)\n",
    "        eps = torch.randn_like(std)\n",
    "        return eps.mul(std).add_(mu)\n",
    "\n",
    "    def decode(self, z):\n",
    "        h3 = F.relu(self.fc3(z))\n",
    "        h4 = F.relu(self.fc4(h3))\n",
    "        return torch.sigmoid(self.convtrans1(h4.view(-1, 12, 28, 28)))\n",
    "\n",
    "    def forward(self, x):\n",
    "        mu, logvar = self.encode(x.view(-1, 1, 28, 28))\n",
    "        z = self.reparameterize(mu, logvar)\n",
    "        return self.decode(z), mu, logvar\n",
    "\n",
    "\n",
    "model = VAE().to(device)\n",
    "optimizer = optim.Adam(model.parameters(), lr=1e-3)\n",
    "\n",
    "\n",
    "# Reconstruction + KL divergence losses summed over all elements and batch\n",
    "def loss_function(recon_x, x, mu, logvar):\n",
    "    BCE_loss_func = nn.BCELoss(reduction='sum') \n",
    "    BCE = BCE_loss_func(recon_x, x)\n",
    "\n",
    "    # see Appendix B from VAE paper:\n",
    "    # Kingma and Welling. Auto-Encoding Variational Bayes. ICLR, 2014\n",
    "    # https://arxiv.org/abs/1312.6114\n",
    "    # 0.5 * sum(1 + log(sigma^2) - mu^2 - sigma^2)\n",
    "    KLD = -0.5 * torch.sum(1 + logvar - mu.pow(2) - logvar.exp())\n",
    "\n",
    "    return BCE + KLD\n",
    "\n",
    "\n",
    "def train(epoch):\n",
    "    model.train()\n",
    "    train_loss = 0\n",
    "    for batch_idx, (data, _) in enumerate(train_loader):\n",
    "        data = data.to(device)\n",
    "        optimizer.zero_grad()\n",
    "        recon_batch, mu, logvar = model(data)\n",
    "#         print(recon_batch.shape, data.shape)\n",
    "        loss = loss_function(recon_batch, data, mu, logvar)\n",
    "        loss.backward()\n",
    "        train_loss += loss.item()\n",
    "        optimizer.step()\n",
    "        if batch_idx % log_interval == 0:\n",
    "            print('Train Epoch: {} [{}/{} ({:.0f}%)]\\tLoss: {:.6f}'.format(\n",
    "                epoch, batch_idx * len(data), len(train_loader.dataset),\n",
    "                100. * batch_idx / len(train_loader),\n",
    "                loss.item() / len(data)))\n",
    "\n",
    "    print('====> Epoch: {} Average loss: {:.4f}'.format(\n",
    "          epoch, train_loss / len(train_loader.dataset)))\n",
    "\n",
    "\n",
    "def test(epoch):\n",
    "    model.eval()\n",
    "    test_loss = 0\n",
    "    with torch.no_grad():\n",
    "        for i, (data, _) in enumerate(test_loader):\n",
    "            data = data.to(device)\n",
    "            recon_batch, mu, logvar = model(data)\n",
    "            test_loss += loss_function(recon_batch, data, mu, logvar).item()\n",
    "            if i == 0:\n",
    "                n = min(data.size(0), 8)\n",
    "                comparison = torch.cat([data[:n],\n",
    "                                      recon_batch.view(batch_size, 1, 28, 28)[:n]])\n",
    "                save_image(comparison.cpu(),\n",
    "                         'results/conv_reconstruction_' + str(epoch) + '.png', nrow=n)\n",
    "\n",
    "    test_loss /= len(test_loader.dataset)\n",
    "    print('====> Test set loss: {:.4f}'.format(test_loss))"
   ]
  },
  {
   "cell_type": "code",
   "execution_count": 12,
   "metadata": {},
   "outputs": [
    {
     "name": "stdout",
     "output_type": "stream",
     "text": [
      "Train Epoch: 1 [0/60000 (0%)]\tLoss: 139.982315\n",
      "Train Epoch: 1 [12800/60000 (21%)]\tLoss: 144.606552\n",
      "Train Epoch: 1 [25600/60000 (43%)]\tLoss: 142.455887\n",
      "Train Epoch: 1 [38400/60000 (64%)]\tLoss: 139.056000\n",
      "Train Epoch: 1 [51200/60000 (85%)]\tLoss: 140.803207\n",
      "====> Epoch: 1 Average loss: 141.2589\n",
      "====> Test set loss: 145.6094\n",
      "Train Epoch: 2 [0/60000 (0%)]\tLoss: 130.808411\n",
      "Train Epoch: 2 [12800/60000 (21%)]\tLoss: 140.891037\n",
      "Train Epoch: 2 [25600/60000 (43%)]\tLoss: 145.148819\n",
      "Train Epoch: 2 [38400/60000 (64%)]\tLoss: 140.331985\n",
      "Train Epoch: 2 [51200/60000 (85%)]\tLoss: 144.988388\n",
      "====> Epoch: 2 Average loss: 141.0441\n",
      "====> Test set loss: 145.4564\n",
      "Train Epoch: 3 [0/60000 (0%)]\tLoss: 141.630936\n",
      "Train Epoch: 3 [12800/60000 (21%)]\tLoss: 144.051163\n",
      "Train Epoch: 3 [25600/60000 (43%)]\tLoss: 144.773529\n",
      "Train Epoch: 3 [38400/60000 (64%)]\tLoss: 146.278656\n",
      "Train Epoch: 3 [51200/60000 (85%)]\tLoss: 142.850983\n",
      "====> Epoch: 3 Average loss: 140.7690\n",
      "====> Test set loss: 145.6204\n",
      "Train Epoch: 4 [0/60000 (0%)]\tLoss: 135.464020\n",
      "Train Epoch: 4 [12800/60000 (21%)]\tLoss: 133.583420\n",
      "Train Epoch: 4 [25600/60000 (43%)]\tLoss: 140.922485\n",
      "Train Epoch: 4 [38400/60000 (64%)]\tLoss: 148.312897\n",
      "Train Epoch: 4 [51200/60000 (85%)]\tLoss: 141.772232\n",
      "====> Epoch: 4 Average loss: 140.6153\n",
      "====> Test set loss: 145.3328\n",
      "Train Epoch: 5 [0/60000 (0%)]\tLoss: 130.263733\n",
      "Train Epoch: 5 [12800/60000 (21%)]\tLoss: 138.469116\n",
      "Train Epoch: 5 [25600/60000 (43%)]\tLoss: 142.619629\n",
      "Train Epoch: 5 [38400/60000 (64%)]\tLoss: 130.572418\n",
      "Train Epoch: 5 [51200/60000 (85%)]\tLoss: 137.645920\n",
      "====> Epoch: 5 Average loss: 140.3618\n",
      "====> Test set loss: 145.4645\n",
      "Train Epoch: 6 [0/60000 (0%)]\tLoss: 141.217239\n",
      "Train Epoch: 6 [12800/60000 (21%)]\tLoss: 139.057480\n",
      "Train Epoch: 6 [25600/60000 (43%)]\tLoss: 133.218033\n",
      "Train Epoch: 6 [38400/60000 (64%)]\tLoss: 140.938614\n",
      "Train Epoch: 6 [51200/60000 (85%)]\tLoss: 139.315155\n",
      "====> Epoch: 6 Average loss: 140.1235\n",
      "====> Test set loss: 145.5101\n",
      "Train Epoch: 7 [0/60000 (0%)]\tLoss: 138.739182\n",
      "Train Epoch: 7 [12800/60000 (21%)]\tLoss: 143.409500\n",
      "Train Epoch: 7 [25600/60000 (43%)]\tLoss: 143.521011\n",
      "Train Epoch: 7 [38400/60000 (64%)]\tLoss: 136.776520\n",
      "Train Epoch: 7 [51200/60000 (85%)]\tLoss: 143.664352\n",
      "====> Epoch: 7 Average loss: 139.9923\n",
      "====> Test set loss: 145.5924\n",
      "Train Epoch: 8 [0/60000 (0%)]\tLoss: 137.526306\n",
      "Train Epoch: 8 [12800/60000 (21%)]\tLoss: 134.908630\n",
      "Train Epoch: 8 [25600/60000 (43%)]\tLoss: 138.853516\n",
      "Train Epoch: 8 [38400/60000 (64%)]\tLoss: 147.326935\n",
      "Train Epoch: 8 [51200/60000 (85%)]\tLoss: 147.294556\n",
      "====> Epoch: 8 Average loss: 139.7312\n",
      "====> Test set loss: 145.4363\n",
      "Train Epoch: 9 [0/60000 (0%)]\tLoss: 133.541428\n",
      "Train Epoch: 9 [12800/60000 (21%)]\tLoss: 132.584015\n",
      "Train Epoch: 9 [25600/60000 (43%)]\tLoss: 134.279694\n",
      "Train Epoch: 9 [38400/60000 (64%)]\tLoss: 135.839600\n",
      "Train Epoch: 9 [51200/60000 (85%)]\tLoss: 135.194336\n",
      "====> Epoch: 9 Average loss: 139.5708\n",
      "====> Test set loss: 145.3396\n",
      "Train Epoch: 10 [0/60000 (0%)]\tLoss: 140.789993\n",
      "Train Epoch: 10 [12800/60000 (21%)]\tLoss: 141.321472\n",
      "Train Epoch: 10 [25600/60000 (43%)]\tLoss: 141.537201\n",
      "Train Epoch: 10 [38400/60000 (64%)]\tLoss: 137.555420\n",
      "Train Epoch: 10 [51200/60000 (85%)]\tLoss: 138.732986\n",
      "====> Epoch: 10 Average loss: 139.4498\n",
      "====> Test set loss: 146.2234\n"
     ]
    }
   ],
   "source": [
    "for epoch in range(1, epochs + 1):\n",
    "    train(epoch)\n",
    "    test(epoch)\n",
    "    with torch.no_grad():\n",
    "        sample = torch.randn(64, 2).to(device)\n",
    "        sample = model.decode(sample).cpu()\n",
    "        save_image(sample.view(64, 1, 28, 28),\n",
    "                   'results/conv_sample_' + str(epoch) + '.png')"
   ]
  },
  {
   "cell_type": "code",
   "execution_count": 13,
   "metadata": {},
   "outputs": [
    {
     "name": "stdout",
     "output_type": "stream",
     "text": [
      "torch.Size([60000, 1, 28, 28])\n"
     ]
    }
   ],
   "source": [
    "with torch.no_grad(): \n",
    "    train_all = train_loader.dataset.train_data.reshape(-1, 1, 28, 28).float().to(device)\n",
    "    print(train_all.shape)\n",
    "    encoded_mu, encoded_logvar = model.encode(train_all) \n",
    "    encoded_latent = model.reparameterize(encoded_mu, encoded_logvar) \n",
    "    decoded = model(train_all)"
   ]
  },
  {
   "cell_type": "code",
   "execution_count": 14,
   "metadata": {},
   "outputs": [],
   "source": [
    "import matplotlib.pyplot as plt "
   ]
  },
  {
   "cell_type": "code",
   "execution_count": 15,
   "metadata": {},
   "outputs": [
    {
     "data": {
      "text/plain": [
       "<matplotlib.colorbar.Colorbar at 0x7f012ce001d0>"
      ]
     },
     "execution_count": 15,
     "metadata": {},
     "output_type": "execute_result"
    },
    {
     "data": {
      "image/png": "[encoded data removed]",
      "text/plain": [
       "<Figure size 720x576 with 2 Axes>"
      ]
     },
     "metadata": {},
     "output_type": "display_data"
    }
   ],
   "source": [
    "plt.figure(figsize=(10,8))\n",
    "plt.scatter(encoded_latent.cpu()[:2000,0], encoded_latent.cpu()[:2000,1], c=train_loader.dataset.train_labels.cpu()[:2000], cmap='tab10')\n",
    "plt.colorbar()"
   ]
  },
  {
   "cell_type": "code",
   "execution_count": 11,
   "metadata": {},
   "outputs": [
    {
     "data": {
      "image/png": "[encoded data removed]",
      "text/plain": [
       "<Figure size 432x288 with 8 Axes>"
      ]
     },
     "metadata": {},
     "output_type": "display_data"
    }
   ],
   "source": [
    "import matplotlib.pyplot as plt \n",
    "import numpy as np\n",
    "n_cols = 4\n",
    "fig, ax = plt.subplots(nrows=2, ncols=n_cols) \n",
    "\n",
    "for i in range(n_cols): \n",
    "    ax[0,i].imshow(np.squeeze(train_all.cpu())[2*i].reshape(28,28)) \n",
    "    ax[0,i].set_title('original')\n",
    "    ax[1,i].imshow(np.squeeze(decoded[0].cpu().numpy())[2*i].reshape(28,28)) \n",
    "    ax[1,i].set_title('hoax')\n",
    "    ax[0,i].axis('off') \n",
    "    ax[1,i].axis('off')\n",
    "plt.show()"
   ]
  },
  {
   "cell_type": "code",
   "execution_count": null,
   "metadata": {},
   "outputs": [],
   "source": []
  }
 ],
 "metadata": {
  "kernelspec": {
   "display_name": "Python 2",
   "language": "python",
   "name": "python2"
  },
  "language_info": {
   "codemirror_mode": {
    "name": "ipython",
    "version": 2
   },
   "file_extension": ".py",
   "mimetype": "text/x-python",
   "name": "python",
   "nbconvert_exporter": "python",
   "pygments_lexer": "ipython2",
   "version": "2.7.14"
  }
 },
 "nbformat": 4,
 "nbformat_minor": 2
}
